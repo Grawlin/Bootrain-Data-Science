import numpy as np
import pandas as pd
import matplotlib.pyplot as plt
import math

# Normal distribution - randomly generated
normal = np.random.normal(178, 5, 1000)

# Figure characteristics

plt.figure(figsize = (10, 4), dpi = 200)
title_font = {'family': 'arial', 'color': 'darkred','weight': 'bold','size': 9 }
axis_font  = {'family': 'arial', 'color': 'darkblue','weight': 'bold','size': 7 }

# Title and label of the histogram

plt.subplot(221)
plt.title('Histogram for a Normal Distribution', fontdict = title_font)
plt.xlabel('Height', fontdict = axis_font)
plt.ylabel('Frecuency', fontdict = axis_font)
plt.hist(normal, bins = 50)

# Standard Normal Distribution
standard_normal = np.random.normal(0, 1, 1000)

normal.sort()
standard_normal.sort()

# Title and label of the Q-Q graph

plt.subplot(222)
plt.plot(standard_normal, normal, "o")
plt.title('Q-Q graph for a Normal Distribution', fontdict = title_font)
plt.xlabel('Standard Normal Distribution', fontdict = axis_font)
plt.ylabel('Normal Distribution', fontdict = axis_font)

#plt.show()

# Google stock history

google_df = pd.read_csv('/Users/Pedro/Documents/Principal/Python/Bootrain Data Science/Google_Stock_Dataset.csv')

google_df['Date'] = pd.to_datetime(google_df['Date'], format='%Y-%m-%d') # Transforms the 'Date' column from string type to a date type

google_df = google_df.sort_values(by = 'Date', ascending= False).reset_index(drop = True) # Sort by 'Date', from new to oldest. 
#                                                                                           reset_index(drop = True) sets the index
#                                                                                           column from 0 to n after de sorting

stock_return = []
for i in range(len(google_df['Date'])-1):
    stock_return.append((google_df.loc[i, 'Close'] - google_df.loc[i+1, 'Close']) / google_df.loc[i+1, 'Close'])
stock_return.append(0) # A zero is added as the last value. Due to the fact that the last day doesn't have a prior date

google_df['Stock Return'] = stock_return

#google_df = google_df.sort_values(by = 'Date').reset_index(drop = True)

# Title and label of the Histrogram from the Return Distribution

plt.subplot(223)
plt.hist(google_df['Stock Return'], bins=50)
plt.title('Historgam for the Return Distribution', fontdict = title_font)
plt.xlabel('Stock Return', fontdict = axis_font)
plt.ylabel('Frecuency', fontdict = axis_font)

# Title and label of the Q-Q graph for the Return Distribution

standard_normal = np.random.normal(0, 1, 504) # I need a distribution with the same dimension as the variables beeing studied
standard_normal.sort() # To build the Q-Q graph both variables need to be sorted out
stock_return.sort()
plt.subplot(224)
plt.plot(standard_normal, stock_return, "o")
plt.title('Q-Q graph for a Return Distribution', fontdict = title_font)
plt.xlabel('Standard Normal Distribution', fontdict = axis_font)
plt.ylabel('Return Distribution', fontdict = axis_font)

plt.show()