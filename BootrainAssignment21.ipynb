print('\n')
print('A, B, C: "Computer production by the i industry, i = A, B, C." \n')
print('D: "Defective computer" \n')
print('P(A) = 0.4 \nP(B) = 0.4 \nP(C) = 0.2 \n')
print('P(D|A) = 0.015 \nP(D|B) = 0.020 \nP(D|C) = 0.010 \n')

print('P(B|D) = P(D|B)P(B) / P(D)', '\n')
print('P(D) = P(D|A)P(A) + P(D|B)P(B) + P(D|C)P(C) =', 0.015*0.4 + 0.02*0.4 + 0.01*0.2, '\n')
print('The propability of randomly selecting a defective computer produced by B is P(B|D) =', 
(0.02*0.4)/(0.015*0.4+0.02*0.4+0.01*0.2), '\n')