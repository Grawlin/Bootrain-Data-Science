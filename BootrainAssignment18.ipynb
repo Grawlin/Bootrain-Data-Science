import pandas as pd
import numpy as np

train_df = pd.read_csv('/Users/Pedro/Documents/Principal/Python/Bootrain Data Science/Train_Dataset.csv', index_col=0)

print(train_df.groupby(by = ['Sex', 'Pclass'])['Age'].mean(), '\n')

print(train_df.groupby(by='Embarked').count(), '\n')