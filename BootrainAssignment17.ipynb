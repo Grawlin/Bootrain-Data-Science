import pandas as pd
import numpy as np

train_df = pd.read_csv('/Users/Pedro/Documents/Principal/Python/Bootrain Data Science/Train_Dataset.csv')

train_30 = train_df[train_df['Age']<30] #People under 30
train_survive_30 = train_df[(train_df['Survived']==1) & (train_df['Age']<30)] #Passengers who survived under 30

print('')
print('The survival rate for all passengers under 30 was: {0:.4f}'.format(train_survive_30.size / train_30.size), '\n')

train_survive_male = train_df[(train_df['Survived']==1) & (train_df['Sex']=='male')] #Male passengers who survived
train_male = train_df[train_df['Sex']=='male'] #Male passengers
train_survive_female = train_df[(train_df['Survived']==1) & (train_df['Sex']=='female')] #Female passengers who survived
train_female = train_df[train_df['Sex']=='female'] #Female passengers

print('The survival rate for male passangers was: {0:.4f}'.format(train_survive_male.size/train_male.size), '\n')
print('The survival rate for female passangers was: {0:.4f}'.format(train_survive_female.size/train_female.size), '\n')