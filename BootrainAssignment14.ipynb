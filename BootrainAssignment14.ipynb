import numpy as np

from numpy import genfromtxt

earth = genfromtxt('/Users/Pedro/Documents/Principal/Python/Bootrain Data Science/Earthquakes_Dataset.csv', delimiter=',')

earth_slice = earth[1:21, [2, 4, 5, 6, 11]]
print(earth_slice, '\n')

print('The row numbers with values equal or higher to 4.5 are:', end=' ')
for i in range(20):
    if earth_slice[[i], [4]] >= 4.5:
        print(i, end=' ')
print('\n')

earth_slice[0,] = 1

print(earth_slice, '\n')

np.save('earth_slice.npy', earth_slice)