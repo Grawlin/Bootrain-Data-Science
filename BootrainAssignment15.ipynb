import numpy as np

earth1 = np.load('/Users/Pedro/Documents/Principal/Python/Bootrain Data Science/earth_slice.npy')

earth1_mean = np.mean(earth1, axis=0)
earth1_std = np.std(earth1, axis=0)
print('The mean for each column is:', earth1_mean)
print('')
print('The standard deviation for each column is:', earth1_std)
print('')

print('Subtraction from mean:', earth1_mean - np.array([1, 25, 25, 10, 4]), '\n')
print('Subtraction from standard deviation:', earth1_std - np.array([1, 25, 25, 10, 4]), '\n')

print('Multiplication of each element by 2:', (earth1_mean - np.array([1, 25, 25, 10, 4])) * 2, '\n')
print('Multiplication of each element by 2:', (earth1_std - np.array([1, 25, 25, 10, 4])) * 2, '\n')