import pandas as pd
import numpy as np

data = pd.DataFrame()

def variance_math(df, col, u, n):
    """
    The calculation of the variance using the mathematical expression.
    The dataframe (df) is needed as well as the column's number (col), the mean population (u), 
    and the number of observations (n).
    """
    add = 0 # The sum of the (x-u)^2 elements

    for i in range(n):
        add += ((df.iloc[i, col] - u) ** 2)

    return add / (n-1)

data['height'] = np.append(np.random.normal(180, 5, 100), np.random.normal(180, 5, 100))
data['weight'] = np.append(np.random.normal(75, 8, 100), np.random.normal(75, 8, 100))
print('\n')

print('Mean of height using Python codes: {0:.2f}'.format(data.height.mean()), '\n')
print('Mean of height using mathematical formulas: {0:.2f}'.format(data.height.sum()/len(data['height'])), '\n')

print('The median of height: {0:.2f}'.format(data.height.median()), '\n')

# The following code will be able to handle double mode data without creating exceptions, but you will get the first mode.
(values, counts) = np.unique(data['height'], return_counts=True) #Finding the most repeated data point in dataset
ind = np.argmax(counts) #List the most repeated one
print('The mode of height: {0:.2f}'.format(values[ind]),'\n')

print('The variance of height: {0:.2f}'.format(data.height.var()), '\n')
print('The variance of height using mathematical formulas: {0:.2f}'.format(variance_math(data, 0, data.height.mean(), 
len(data['height']))), '\n')

print('The standard deviation of height: {0:.2f}'.format(np.std(data['height'], ddof=1)), '\n')
print('The standard deviation of height using mathematical formulas: {0:.2f}'.format(np.sqrt(variance_math(data, 0, 
data.height.mean(), len(data['height'])))), '\n')

print('The standard error of height: {0:.2f}'.format(np.std(data['height'], ddof=1)/np.sqrt(len(data['height']))), '\n')