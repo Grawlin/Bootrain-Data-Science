import pandas as pd
import numpy as np

letters = ['A', 'B', 'C', 'D', 'E', 'F', 'G', 'H', 'I', 'J']

def Fibonacci(n):
    """
    Returns in a list the first n Fibonacci numbers.
    """
    a = b = i = 1
    num = [1, 1] #List of the series
    while i < (n-1):
        c = a + b
        num.append(c)
        a = b
        b = c
        i += 1
    return num

def prime_numbers(n):
    """
    Returns in a list the first n prime numbers.
    """
    num = []
    c = 0
    a = 2
    def is_prime(m):
        if m == 1 or m == 2:
            return True
        elif a % (m-1) !=0 :
            res = True * is_prime(m-1)
            return bool(res)
        else:
            res = False * is_prime(m-1)
            return bool(res)
    while c < n:
        if is_prime(a):
            num.append(a)
            a +=1
            c += 1
        else:
            a += 1
    return num

df_example = pd.DataFrame(np.array(prime_numbers(10)))
df_example[1] = pd.DataFrame(np.array(Fibonacci(10)))
df_example.index = letters
print(df_example)