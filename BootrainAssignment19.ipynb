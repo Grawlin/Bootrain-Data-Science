import pandas as pd
import numpy as np

train_df = pd.read_csv('/Users/Pedro/Documents/Principal/Python/Bootrain Data Science/Train_Dataset.csv', index_col=0)
test_df = pd.read_csv('/Users/Pedro/Documents/Principal/Python/Bootrain Data Science/Test_Dataset.csv', index_col=0)

train_test = pd.concat([train_df, test_df])

print('The lenght with concatenation is:', len(train_test.index), '\n')

features_df = pd.read_csv('/Users/Pedro/Documents/Principal/Python/Bootrain Data Science/Features_Dataset.csv')
target_df = pd.read_csv('/Users/Pedro/Documents/Principal/Python/Bootrain Data Science/Target_Dataset.csv')

features_target_merge = pd.merge(features_df, target_df) #Merge with inner method
print('The lenght of simple merge is:', len(features_target_merge.index) , '\n')

features_target_outer = pd.merge(features_df, target_df, how='outer') #Merge with outer method
print('The lenght of outer merge is:', len(features_target_outer.index) , '\n')

features_target_left = pd.merge(features_df, target_df, how='left') #Merge with left method
print('The lenght of left merge is:', len(features_target_left.index) , '\n')

features_target_right = pd.merge(features_df, target_df, how='right') #Merge with right method
print('The lenght of right merge is:', len(features_target_right.index) , '\n')