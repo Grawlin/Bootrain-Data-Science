import numpy as np

sq_meter = [50.0, 65.5, 70.5, 40.0, 100.0, 42.0, 78.0, 90.0, 88.0, 52.0]
rooms = [3, 3, 4, 2, 5, 2, 4, 4, 4, 3]
price = [5000, 6600, 7100, 4000, 10000, 4200, 7800, 9000, 8800, 5200]

houses_info = np.array([sq_meter, rooms, price])
houses_info = houses_info.transpose()

print(houses_info, '\n')

print('The house_info shape:', houses_info.shape, '\n')
print('Each row represents the characteristics of a house. The first column are the square meters,', '\n', 
'the second column are de amount of rooms, and the last one is the price of each house.', '\n',sep='')

def array_101(n, m):
    ones = [] #Array with all 1's
    ones_zeros = [] #Array with 1's & 0's
    matrix = [] #Final matrix
    a = 1
    b = i = j = 0
    while i < m:
        if b == 0:
            b = 1
            ones_zeros.append(b)
            ones.append(1)
        else:
            b = 0
            ones_zeros.append(b)
            ones.append(1)
        i += 1
    while j < n:
        if a == 1:
            a = 0
            matrix.append(ones)
        else:
            a = 1
            matrix.append(ones_zeros)
        j += 1
    matrix = np.array(matrix)
    return matrix

def value_check(value):
    try:
        value = int(value)
        return value
    except ValueError:
        print('')
        value = input('Please enter an integer: ')
        return value_check(value)

n = input('Please enter the number of rows: ')
m = input('Please enter the number of columns: ')

print(array_101(value_check(n), value_check(m)))