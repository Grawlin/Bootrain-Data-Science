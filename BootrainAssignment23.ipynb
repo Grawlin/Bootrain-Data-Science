import numpy as np
import matplotlib.pyplot as plt


def histogram_plot(graph_data, data_size, subplot_no):
    title_font = {'family': 'arial', 'color': 'darkred','weight': 'bold','size': 10 }
    axis_font  = {'family': 'arial', 'color': 'darkblue','weight': 'bold','size': 8 }
    plt.subplot(subplot_no)
    plt.hist(graph_data)
    plt.title("Generated {} times".format(data_size), fontdict = title_font)
    plt.xlabel("Mean", fontdict = axis_font)
    plt.ylabel("Frecuency", fontdict = axis_font)
    return plt

mean_var1 = []
for i in range(50):
    var1 = np.random.normal(28, 5, 1000)
    mean_var1.append(np.mean(var1))

mean_var2 = []
for i in range(1000):
    var2 = np.random.normal(10, 1, 1000)
    mean_var2.append(np.mean(var2))

plt.figure(figsize=(15,3), dpi=200)
histogram_plot(mean_var1,len(mean_var1), 131) 
histogram_plot(mean_var2, len(mean_var2), 133)
plt.show()
